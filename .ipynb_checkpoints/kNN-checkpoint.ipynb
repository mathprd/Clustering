{
 "cells": [
  {
   "cell_type": "markdown",
   "metadata": {},
   "source": [
    "# Introduction\n",
    "\n",
    "The objectives of this lab are\n",
    "- Introduction to the MNIST dataset,\n",
    "- Manipulation of the Python library scikit-learn for machine learning,\n",
    "- First examples of supervised classification with the k-nearest neighbors method (k-NN) [Lecture 1],\n",
    "- Evaluation of the classification error,\n",
    "- Selection of models."
   ]
  },
  {
   "cell_type": "markdown",
   "metadata": {},
   "source": [
    "Scikit-learn is a Python software requiring the installation of the libraries NumPy and SciPy (for scientific computation), in compatible versions.\n",
    "- From scratch, the easiest is to install a complete Python distribution, e.g. Anaconda3 with a new environment, which includes most of the usual Python libraries. The official website of scikit-learn is: http://scikit-learn.org/stable/index.html.\n",
    "- On the machines at INSA, the Python environment should already include most libraries. In the case of a missing library, you can add it with pip: e.g. **pip install numpy**. We advice to use an IDE, e.g. Visual Studio, to edit the jupyter-notebook.\n",
    "- Alternatively, you can directly run your code on Google Colab, which allows to access your work from anywhere. Beware, the computation and memory resources are limited."
   ]
  },
  {
   "cell_type": "markdown",
   "metadata": {},
   "source": [
    "# 1. The dataset\n",
    "\n",
    "### scikit-learn datasets\n",
    "Some datasets are natively available in scikit-learn: https://scikit-learn.org/stable/datasets/real_world.html. It is also possible to generate artificial data or get external data (see unsupervised learning lab).\n",
    "\n",
    "The datasets include a certain number of attributes (all attributes are not included in all datasets): in particular .data, .target, .target_names, .feature_names, .DESCR:\n",
    "- .data: table of dimensions n x m where n is the number of samples, and m the number of features.\n",
    "- .target: the classes (labels) of each instance (in the case of supervised learning).\n",
    "- .target_names: names of the classes.\n",
    "- .feature_names: names of the features.\n",
    "- .DESCR: complete description of the dataset in textual format.\n",
    "\n",
    "### MNIST\n",
    "MNIST was developed by the pionners of deep learning, Y. LeCun et Y. Bengio, in 1998. The MNIST database, for Modified or Mixed National Institute of Standards and\n",
    "Technology, is a database of manually written numbers from 0 to 9. By definition, it is a multi-class classification problem with 10 classes. An input sample is an image of fixed size 28 x 28. For example:\n",
    "\n",
    "<img src=\"https://collonvillethomas.files.wordpress.com/2021/04/image-6.png?w=569\" alt=\"MNIST example\" />\n",
    "\n",
    "Thus an example is a vector with 28*28=784 components corresponding to the grayscale of each of the 784 pixels."
   ]
  },
  {
   "cell_type": "markdown",
   "metadata": {},
   "source": [
    "## Exercice 1: Manipulation of the database"
   ]
  },
  {
   "cell_type": "markdown",
   "metadata": {},
   "source": [
    "0. Importing the dataset"
   ]
  },
  {
   "cell_type": "code",
   "execution_count": 1,
   "metadata": {},
   "outputs": [
    {
     "name": "stderr",
     "output_type": "stream",
     "text": [
      "/usr/local/insa/anaconda/lib/python3.11/site-packages/sklearn/datasets/_openml.py:968: FutureWarning: The default value of `parser` will change from `'liac-arff'` to `'auto'` in 1.4. You can set `parser='auto'` to silence this warning. Therefore, an `ImportError` will be raised from 1.4 if the dataset is dense and pandas is not installed. Note that the pandas parser may return different data types. See the Notes Section in fetch_openml's API doc for details.\n",
      "  warn(\n"
     ]
    }
   ],
   "source": [
    "# Option 1:\n",
    "import numpy as np\n",
    "from sklearn.datasets import fetch_openml\n",
    "mnist = fetch_openml('mnist_784')\n",
    "\n",
    "# ## Option 2:\n",
    "# from sklearn.datasets import fetch_mldata\n",
    "# mnist = fetch_mldata('MNIST original')\n",
    "\n",
    "# ## Option 3:\n",
    "# ## Directly fetch mnist.mat on the internet, for example: https://github.com/daniel-e/mnist_octave/raw/master/mnist.mat"
   ]
  },
  {
   "cell_type": "markdown",
   "metadata": {},
   "source": [
    "1. Execute the following commands and understand what they do (you will have to use them again)."
   ]
  },
  {
   "cell_type": "code",
   "execution_count": 18,
   "metadata": {},
   "outputs": [
    {
     "name": "stdout",
     "output_type": "stream",
     "text": [
      "5\n"
     ]
    }
   ],
   "source": [
    "# Visualize content of mnist dataset\n",
    "#print(mnist)\n",
    "#print (mnist.data)\n",
    "#print (mnist.target)\n",
    "#len(mnist.data)\n",
    "#help(len)\n",
    "#print (mnist.data.shape)\n",
    "#print (mnist.target.shape)\n",
    "\n",
    "# Convert to numpy array\n",
    "X=np.asarray(mnist.data)\n",
    "#print(X[0])\n",
    "#print(X[0][1])\n",
    "#print(X[:,1])\n",
    "#print(X[:100])\n",
    "y=np.asarray(mnist.target)\n",
    "print(y[0])"
   ]
  },
  {
   "cell_type": "markdown",
   "metadata": {},
   "source": [
    "- data est un tableau de 70000lignes(correspondant aux 70000 données) par 784colonnes (correspondant aux 784 pixels).\n",
    "- Target est un tableau de 70000lignes (données) par une colonne qui contient l'information de la classe.\n",
    "- l'attribut \"shape\" permet de renvoyer les dimensions du tableau demandé\n",
    "- X représente la base de donnée sous forme de matrice. Il est de même dimensions que data et contient les mêmes informations (données sur chaque pixel pour chaque élément).\n",
    "- X[0] correspond aux données des 784 pixels du premier élément du dataset.\n",
    "- X[0][1] correspond à la donnée du 2ème pixel du premier élément du dataset.\n",
    "- X[:,1] affiche les données sur les 2èmes pixels de chaque élément.\n",
    "- X[:100] correspond aux données des 784 pixels des 100 premiers éléments.\n",
    "- y contient les informations sur la target à atteindre pour chaque élément du dataset. Il est de même dimensions que target.\n",
    "-  y[0] affiche la target du premier élément."
   ]
  },
  {
   "cell_type": "markdown",
   "metadata": {},
   "source": [
    "2. Visualise the data\n",
    "\n",
    "scikit-learn includes the library matplotlib which propose numerous primitives to generate curves and graphics. The database MNIST contains written numbers as images with a fixed size 28 x 28. Execute the following commands and understand them."
   ]
  },
  {
   "cell_type": "code",
   "execution_count": 19,
   "metadata": {},
   "outputs": [
    {
     "data": {
      "image/png": "[encoded data removed]",
      "text/plain": [
       "<Figure size 640x480 with 1 Axes>"
      ]
     },
     "metadata": {},
     "output_type": "display_data"
    }
   ],
   "source": [
    "from sklearn import datasets\n",
    "import matplotlib.pyplot as plt\n",
    "images = X.reshape((-1, 28, 28))\n",
    "plt.imshow(images[0],cmap=plt.cm.gray_r,interpolation=\"nearest\")\n",
    "plt.show()"
   ]
  },
  {
   "cell_type": "markdown",
   "metadata": {},
   "source": [
    "- images = X.reshape((-1, 28, 28)) : Cette ligne permet de réorganiser les données sous forme d'une série de tableau de 28 par 28. Images contient toutes les données de X sous forme de tableaux de 28x28. On passe de 1D à 2D.\n",
    "- Ici, on affiche les données contenues dans le tableau numéro 0 (élément 1) en utilisant des nuances de gris."
   ]
  },
  {
   "cell_type": "markdown",
   "metadata": {},
   "source": [
    "Affichez la classe correspondante à l’image affichée."
   ]
  },
  {
   "cell_type": "code",
   "execution_count": 21,
   "metadata": {},
   "outputs": [
    {
     "name": "stdout",
     "output_type": "stream",
     "text": [
      "5\n"
     ]
    }
   ],
   "source": [
    "print(y[0])"
   ]
  },
  {
   "cell_type": "markdown",
   "metadata": {},
   "source": [
    "3. Explore other datasets\n",
    "\n",
    "scikit-learn includes the library matplotlib which propose numerous primitives to generate curves and graphics. The database MNIST contains written numbers as images with a fixed size 28 x 28. Execute the following commands and understand them."
   ]
  },
  {
   "cell_type": "code",
   "execution_count": 22,
   "metadata": {},
   "outputs": [
    {
     "name": "stdout",
     "output_type": "stream",
     "text": [
      "downloading Olivetti faces from https://ndownloader.figshare.com/files/5976027 to /home/predon/scikit_learn_data\n"
     ]
    },
    {
     "data": {
      "image/png": "[encoded data removed]",
      "text/plain": [
       "<Figure size 640x480 with 1 Axes>"
      ]
     },
     "metadata": {},
     "output_type": "display_data"
    },
    {
     "name": "stdout",
     "output_type": "stream",
     "text": [
      "0\n"
     ]
    }
   ],
   "source": [
    "# SOLUTION\n",
    "import numpy as np\n",
    "from sklearn.datasets import fetch_olivetti_faces\n",
    "olivetti = fetch_olivetti_faces()\n",
    "\n",
    "X_olivetti=np.asarray(olivetti.data)\n",
    "images_olivetti = X_olivetti.reshape((-1, 64, 64))\n",
    "plt.imshow(images_olivetti[0],cmap=plt.cm.gray_r,interpolation=\"nearest\")\n",
    "plt.show()\n",
    "print(olivetti.target[0])"
   ]
  },
  {
   "cell_type": "markdown",
   "metadata": {},
   "source": [
    "Cette section reprend l'ensemble des opérations vues depuis le début de ce notebook. Le dataset est extrait (olivetti), puis il est mis sous forme de tableau (X_olivetti), puis réorganiser sous forme de sous tableaux (images_olivetti). Enfin, le premier élément du dataset est affiché en nuances de gris, avec sa target (0)."
   ]
  },
  {
   "cell_type": "markdown",
   "metadata": {},
   "source": [
    "# 2. The k-Nearest Neighbors (k-NN) method\n",
    "\n",
    "The k-NN method is a very intuitive algorithm, which can be parametrized and often has a good performance on clasification problems.\n",
    "\n",
    "The k-NN method requires:\n",
    "- an integer k\n",
    "- a training dataset\n",
    "- a proximity/similarity/distance measure\n",
    "\n",
    "The principle of the algorithm is the following:\n",
    "For a new unlabelled example x, find the k labelled samples from the training dataset which are the closest with respect to the chosen measure (the neighbors). The class associated to x is then the one appearing most often among the neighbors (majority/consensus).\n",
    "\n",
    "In the following example, we have 3 classes (ω1, ω2, ω3) and the goal is to find the value of the class for an unknown example x. We consider the Euclidian distance as proximity measure and k=5 neighbors.\n",
    "\n",
    "<img src=\"https://miro.medium.com/v2/resize:fit:488/1*9h-WczF6csbeut5vsvjSUA.gif\" alt=\"k-NN example\" />\n",
    "\n",
    "Among the 5 nearest neighbors, 4 belong to ω1 and 1 belongs to ω3, so x is affected to ω1, the class of the majority."
   ]
  },
  {
   "cell_type": "markdown",
   "metadata": {},
   "source": [
    "### Information:\n",
    "We use the library sklearn.neighbors to execute an example of this classification algorithm.\n",
    "\n",
    "The command **train_test_split**, implemented in **model_selection** in **sklearn** allows to divide the dataset in two: one training set and one test set:\n",
    "xtrain, xtest, ytrain, ytest = train_test_split(data, target, train_size=pourcentage_de_données)\n",
    "\n",
    "Exemple percentage of data = 0.7 (70%)\n",
    "\n",
    "The algorithm k-NN is implemented in a package called **neighbors**.\n",
    "Here are the main commands:\n",
    "- The line **clf = neighbors.KNeighborsClassifier(n_neighbors)** creates an object of type classifier based on the n_neighbors closest neighbors,\n",
    "- The instruction clf.fit(X, y) uses the data to define the classifier (training),\n",
    "- The command **clf.predict()** is used to classify the new examples,\n",
    "- The command **clf.predict_proba()** allows to estimate the probability of the proposed classification,\n",
    "- The command **clf.score(xtest, ytest)** computes the global score of the classifier for a given dataset."
   ]
  },
  {
   "cell_type": "markdown",
   "metadata": {},
   "source": [
    "## Exercice 2: The method of the k-NN"
   ]
  },
  {
   "cell_type": "markdown",
   "metadata": {},
   "source": [
    "- Import the dataset"
   ]
  },
  {
   "cell_type": "code",
   "execution_count": 1,
   "metadata": {},
   "outputs": [
    {
     "name": "stderr",
     "output_type": "stream",
     "text": [
      "/usr/local/insa/anaconda/lib/python3.11/site-packages/sklearn/datasets/_openml.py:968: FutureWarning: The default value of `parser` will change from `'liac-arff'` to `'auto'` in 1.4. You can set `parser='auto'` to silence this warning. Therefore, an `ImportError` will be raised from 1.4 if the dataset is dense and pandas is not installed. Note that the pandas parser may return different data types. See the Notes Section in fetch_openml's API doc for details.\n",
      "  warn(\n"
     ]
    }
   ],
   "source": [
    "import numpy as np\n",
    "from sklearn.datasets import fetch_openml\n",
    "mnist = fetch_openml('mnist_784')\n",
    "\n",
    "X_complete=np.asarray(mnist.data)\n",
    "y_complete=np.asarray(mnist.target)"
   ]
  },
  {
   "cell_type": "markdown",
   "metadata": {},
   "source": [
    "- Extract a data sample named X with a size of 5000 examples using the function **np.random.randint(70000, size=5000)**, with the corresponding labels y."
   ]
  },
  {
   "cell_type": "code",
   "execution_count": 2,
   "metadata": {},
   "outputs": [
    {
     "name": "stdout",
     "output_type": "stream",
     "text": [
      "[[0. 0. 0. ... 0. 0. 0.]\n",
      " [0. 0. 0. ... 0. 0. 0.]\n",
      " [0. 0. 0. ... 0. 0. 0.]\n",
      " ...\n",
      " [0. 0. 0. ... 0. 0. 0.]\n",
      " [0. 0. 0. ... 0. 0. 0.]\n",
      " [0. 0. 0. ... 0. 0. 0.]]\n",
      "(5000, 784)\n",
      "['9' '9' '7' ... '7' '7' '7']\n",
      "(5000,)\n"
     ]
    }
   ],
   "source": [
    "index=np.random.randint(70000, size=5000)\n",
    "X=X_complete[index]\n",
    "y=y_complete[index]\n",
    "print(X)\n",
    "print(X.shape)\n",
    "print(y)\n",
    "print(y.shape)"
   ]
  },
  {
   "cell_type": "markdown",
   "metadata": {},
   "source": [
    "- Divide the database in 80% for training and 20% for test."
   ]
  },
  {
   "cell_type": "code",
   "execution_count": 3,
   "metadata": {},
   "outputs": [
    {
     "name": "stdout",
     "output_type": "stream",
     "text": [
      "(4000, 784)\n",
      "(1000, 784)\n",
      "(4000,)\n",
      "(1000,)\n"
     ]
    }
   ],
   "source": [
    "from sklearn.model_selection import train_test_split\n",
    "\n",
    "xtrain, xtest, ytrain, ytest = train_test_split(X, y, train_size=0.8)\n",
    "print(xtrain.shape)\n",
    "print(xtest.shape)\n",
    "print(ytrain.shape)\n",
    "print(ytest.shape)"
   ]
  },
  {
   "cell_type": "markdown",
   "metadata": {},
   "source": [
    "- Train a k-NN classifier with k = 10 on the training set."
   ]
  },
  {
   "cell_type": "code",
   "execution_count": 4,
   "metadata": {},
   "outputs": [
    {
     "data": {
      "text/html": [
       "<style>#sk-container-id-1 {color: black;background-color: white;}#sk-container-id-1 pre{padding: 0;}#sk-container-id-1 div.sk-toggleable {background-color: white;}#sk-container-id-1 label.sk-toggleable__label {cursor: pointer;display: block;width: 100%;margin-bottom: 0;padding: 0.3em;box-sizing: border-box;text-align: center;}#sk-container-id-1 label.sk-toggleable__label-arrow:before {content: \"▸\";float: left;margin-right: 0.25em;color: #696969;}#sk-container-id-1 label.sk-toggleable__label-arrow:hover:before {color: black;}#sk-container-id-1 div.sk-estimator:hover label.sk-toggleable__label-arrow:before {color: black;}#sk-container-id-1 div.sk-toggleable__content {max-height: 0;max-width: 0;overflow: hidden;text-align: left;background-color: #f0f8ff;}#sk-container-id-1 div.sk-toggleable__content pre {margin: 0.2em;color: black;border-radius: 0.25em;background-color: #f0f8ff;}#sk-container-id-1 input.sk-toggleable__control:checked~div.sk-toggleable__content {max-height: 200px;max-width: 100%;overflow: auto;}#sk-container-id-1 input.sk-toggleable__control:checked~label.sk-toggleable__label-arrow:before {content: \"▾\";}#sk-container-id-1 div.sk-estimator input.sk-toggleable__control:checked~label.sk-toggleable__label {background-color: #d4ebff;}#sk-container-id-1 div.sk-label input.sk-toggleable__control:checked~label.sk-toggleable__label {background-color: #d4ebff;}#sk-container-id-1 input.sk-hidden--visually {border: 0;clip: rect(1px 1px 1px 1px);clip: rect(1px, 1px, 1px, 1px);height: 1px;margin: -1px;overflow: hidden;padding: 0;position: absolute;width: 1px;}#sk-container-id-1 div.sk-estimator {font-family: monospace;background-color: #f0f8ff;border: 1px dotted black;border-radius: 0.25em;box-sizing: border-box;margin-bottom: 0.5em;}#sk-container-id-1 div.sk-estimator:hover {background-color: #d4ebff;}#sk-container-id-1 div.sk-parallel-item::after {content: \"\";width: 100%;border-bottom: 1px solid gray;flex-grow: 1;}#sk-container-id-1 div.sk-label:hover label.sk-toggleable__label {background-color: #d4ebff;}#sk-container-id-1 div.sk-serial::before {content: \"\";position: absolute;border-left: 1px solid gray;box-sizing: border-box;top: 0;bottom: 0;left: 50%;z-index: 0;}#sk-container-id-1 div.sk-serial {display: flex;flex-direction: column;align-items: center;background-color: white;padding-right: 0.2em;padding-left: 0.2em;position: relative;}#sk-container-id-1 div.sk-item {position: relative;z-index: 1;}#sk-container-id-1 div.sk-parallel {display: flex;align-items: stretch;justify-content: center;background-color: white;position: relative;}#sk-container-id-1 div.sk-item::before, #sk-container-id-1 div.sk-parallel-item::before {content: \"\";position: absolute;border-left: 1px solid gray;box-sizing: border-box;top: 0;bottom: 0;left: 50%;z-index: -1;}#sk-container-id-1 div.sk-parallel-item {display: flex;flex-direction: column;z-index: 1;position: relative;background-color: white;}#sk-container-id-1 div.sk-parallel-item:first-child::after {align-self: flex-end;width: 50%;}#sk-container-id-1 div.sk-parallel-item:last-child::after {align-self: flex-start;width: 50%;}#sk-container-id-1 div.sk-parallel-item:only-child::after {width: 0;}#sk-container-id-1 div.sk-dashed-wrapped {border: 1px dashed gray;margin: 0 0.4em 0.5em 0.4em;box-sizing: border-box;padding-bottom: 0.4em;background-color: white;}#sk-container-id-1 div.sk-label label {font-family: monospace;font-weight: bold;display: inline-block;line-height: 1.2em;}#sk-container-id-1 div.sk-label-container {text-align: center;}#sk-container-id-1 div.sk-container {/* jupyter's `normalize.less` sets `[hidden] { display: none; }` but bootstrap.min.css set `[hidden] { display: none !important; }` so we also need the `!important` here to be able to override the default hidden behavior on the sphinx rendered scikit-learn.org. See: https://github.com/scikit-learn/scikit-learn/issues/21755 */display: inline-block !important;position: relative;}#sk-container-id-1 div.sk-text-repr-fallback {display: none;}</style><div id=\"sk-container-id-1\" class=\"sk-top-container\"><div class=\"sk-text-repr-fallback\"><pre>KNeighborsClassifier(n_neighbors=10)</pre><b>In a Jupyter environment, please rerun this cell to show the HTML representation or trust the notebook. <br />On GitHub, the HTML representation is unable to render, please try loading this page with nbviewer.org.</b></div><div class=\"sk-container\" hidden><div class=\"sk-item\"><div class=\"sk-estimator sk-toggleable\"><input class=\"sk-toggleable__control sk-hidden--visually\" id=\"sk-estimator-id-1\" type=\"checkbox\" checked><label for=\"sk-estimator-id-1\" class=\"sk-toggleable__label sk-toggleable__label-arrow\">KNeighborsClassifier</label><div class=\"sk-toggleable__content\"><pre>KNeighborsClassifier(n_neighbors=10)</pre></div></div></div></div></div>"
      ],
      "text/plain": [
       "KNeighborsClassifier(n_neighbors=10)"
      ]
     },
     "execution_count": 4,
     "metadata": {},
     "output_type": "execute_result"
    }
   ],
   "source": [
    "from sklearn.neighbors import KNeighborsClassifier\n",
    "\n",
    "k=10\n",
    "clf = KNeighborsClassifier(k)\n",
    "clf.fit(xtrain, ytrain)"
   ]
  },
  {
   "cell_type": "markdown",
   "metadata": {},
   "source": [
    "- Display image 4, the class of image 4 and its predicted class"
   ]
  },
  {
   "cell_type": "code",
   "execution_count": 5,
   "metadata": {},
   "outputs": [
    {
     "data": {
      "image/png": "[encoded data removed]",
      "text/plain": [
       "<Figure size 640x480 with 1 Axes>"
      ]
     },
     "metadata": {},
     "output_type": "display_data"
    },
    {
     "name": "stdout",
     "output_type": "stream",
     "text": [
      "class of image 4 : 0\n",
      "['0']\n",
      "[[0.4 0.  0.  0.  0.1 0.1 0.4 0.  0.  0. ]]\n"
     ]
    }
   ],
   "source": [
    "from sklearn import datasets\n",
    "import matplotlib.pyplot as plt\n",
    "\n",
    "images = X.reshape((-1, 28, 28))\n",
    "plt.imshow(images[3],cmap=plt.cm.gray_r,interpolation=\"nearest\")\n",
    "plt.show()\n",
    "\n",
    "print(\"class of image 4 :\",y[3])\n",
    "\n",
    "print(clf.predict([ X[3] ]))\n",
    "print(clf.predict_proba([ X[3] ]))"
   ]
  },
  {
   "cell_type": "markdown",
   "metadata": {},
   "source": [
    "- Display the score on the test set"
   ]
  },
  {
   "cell_type": "code",
   "execution_count": 6,
   "metadata": {},
   "outputs": [
    {
     "data": {
      "text/plain": [
       "0.91"
      ]
     },
     "execution_count": 6,
     "metadata": {},
     "output_type": "execute_result"
    }
   ],
   "source": [
    "clf.score(xtest, ytest)"
   ]
  },
  {
   "cell_type": "markdown",
   "metadata": {},
   "source": [
    "- What is the error rate for the training set ? Is it normal ? Underfitting/Overfitting ?\n",
    "\n",
    "L'underfitting correspond à un mauvais entrainement et à des bons tests.\n",
    "L'overfitting correspond à un bon entrainement mais à des mauvais tests.\n",
    "\n",
    "Si on a un score sur le train set qui est très superieur au score sur le test set, alors on est en overfitting.\n",
    "Si on a un score sur le train set qui est tout simplement mauvais, alors on est en underfitting.\n",
    "\n",
    "Dans notre cas, on est dans un cas normal."
   ]
  },
  {
   "cell_type": "code",
   "execution_count": 7,
   "metadata": {},
   "outputs": [
    {
     "data": {
      "text/plain": [
       "0.93525"
      ]
     },
     "execution_count": 7,
     "metadata": {},
     "output_type": "execute_result"
    }
   ],
   "source": [
    "clf.score(xtrain, ytrain)"
   ]
  },
  {
   "cell_type": "markdown",
   "metadata": {},
   "source": [
    "- Vary the percentage of samples (training and test) and display the score. What is the remarkable percentage ?"
   ]
  },
  {
   "cell_type": "code",
   "execution_count": 8,
   "metadata": {},
   "outputs": [
    {
     "name": "stdout",
     "output_type": "stream",
     "text": [
      "test score pour  0.1 : 0.8097777777777778\n",
      "train score pour  0.1 : 0.842\n",
      "test score pour  0.2 : 0.85825\n",
      "train score pour  0.2 : 0.898\n",
      "test score pour  0.3 : 0.8765714285714286\n",
      "train score pour  0.3 : 0.9026666666666666\n",
      "test score pour  0.4 : 0.8843333333333333\n",
      "train score pour  0.4 : 0.9165\n",
      "test score pour  0.5 : 0.9028\n",
      "train score pour  0.5 : 0.9196\n",
      "test score pour  0.6 : 0.9015\n",
      "train score pour  0.6 : 0.924\n",
      "test score pour  0.7 : 0.9\n",
      "train score pour  0.7 : 0.9242857142857143\n",
      "test score pour  0.8 : 0.912\n",
      "train score pour  0.8 : 0.9295\n",
      "test score pour  0.9 : 0.934\n",
      "train score pour  0.9 : 0.9348888888888889\n",
      "test score pour  0.97 : 0.9066666666666666\n",
      "train score pour  0.97 : 0.9379381443298969\n",
      "On remarque que le pourcentage pour lequel le test score et le train score sont le plus proche est 80%\n"
     ]
    }
   ],
   "source": [
    "from sklearn.model_selection import train_test_split\n",
    "from sklearn.neighbors import KNeighborsClassifier\n",
    "\n",
    "for i  in range(1,10):\n",
    "    xtrain, xtest, ytrain, ytest = train_test_split(X, y, train_size=(i/10))\n",
    "    k=10\n",
    "    clf = KNeighborsClassifier(k)\n",
    "    clf.fit(xtrain, ytrain)\n",
    "    print (\"test score pour \", i/10, \":\", clf.score(xtest, ytest))\n",
    "    print (\"train score pour \", i/10, \":\", clf.score(xtrain, ytrain))\n",
    "\n",
    "xtrain, xtest, ytrain, ytest = train_test_split(X, y, train_size=0.97)\n",
    "k=10\n",
    "clf = KNeighborsClassifier(k)\n",
    "clf.fit(xtrain, ytrain)\n",
    "print (\"test score pour \", 0.97, \":\", clf.score(xtest, ytest))\n",
    "print (\"train score pour \", 0.97, \":\", clf.score(xtrain, ytrain))\n",
    "\n",
    "    \n",
    "    \n",
    "print(\"On remarque que le pourcentage pour lequel le test score et le train score sont le plus proche est 80%\")\n"
   ]
  },
  {
   "cell_type": "markdown",
   "metadata": {},
   "source": [
    "- Vary the number of neighbors (k) from 2 to 15 and display the scores as a curve (one curve for training and one for test). What is the optimal k ? Implement two approaches:\n",
    "    - use a loop on k using the training and test datasets,\n",
    "    - use a K-fold validation as implemented with the functions **kf = KFold(len(X), n_folds=10, shuffle=True, random_state=42)** and **kf.split(X)** from sklearn.model_selection. Let's remind that the score for a particular model (one choice of k) is obtained as the average score over all folds."
   ]
  },
  {
   "cell_type": "code",
   "execution_count": 9,
   "metadata": {},
   "outputs": [
    {
     "data": {
      "image/png": "[encoded data removed]",
      "text/plain": [
       "<Figure size 640x480 with 1 Axes>"
      ]
     },
     "metadata": {},
     "output_type": "display_data"
    },
    {
     "name": "stdout",
     "output_type": "stream",
     "text": [
      "On remarque que si le nombre de voisins est trop grand, alors le test n'est pas bon car les pourcentages sont trop bas.\n",
      "Au contraire, si le nombre de voisin est trop bas, alors on sur-interprète les données et donc on est en overfitting.\n",
      "Ici, le nombre idéal de voisin est de 5 ou 6 (3+2 ou 4+2)\n"
     ]
    }
   ],
   "source": [
    "from sklearn.model_selection import KFold\n",
    "\n",
    "scores_train=[]\n",
    "scores_test=[]\n",
    "\n",
    "kf = KFold(n_splits=10, shuffle=True, random_state=42)\n",
    "for i in range(2,15):\n",
    "    tmptest=0\n",
    "    tmptrain=0\n",
    "    for k in kf.split(X):\n",
    "        indicestrain = k[0]\n",
    "        indicestest = k[1]\n",
    "        xtrain=X[indicestrain]\n",
    "        xtest=X[indicestest]\n",
    "        ytrain=y[indicestrain]\n",
    "        ytest=y[indicestest]\n",
    "        clf = KNeighborsClassifier(i)\n",
    "        clf.fit(xtrain, ytrain)\n",
    "        tmptest+=clf.score(xtest, ytest)\n",
    "        tmptrain+=clf.score(xtrain, ytrain)\n",
    "    scores_train.append(tmptest/10)\n",
    "    scores_test.append(tmptrain/10)\n",
    "\n",
    "# Display scores\n",
    "plt.plot(scores_train)\n",
    "plt.plot(scores_test)\n",
    "plt.xlabel(\"k-2\")\n",
    "plt.ylabel(\"Score\")\n",
    "plt.title(\"Variation of neighboors\")\n",
    "plt.show()\n",
    "\n",
    "print(\"On remarque que si le nombre de voisins est trop grand, alors le test n'est pas bon car les pourcentages sont trop bas.\")\n",
    "print(\"Au contraire, si le nombre de voisin est trop bas, alors on sur-interprète les données et donc on est en overfitting.\")\n",
    "print(\"Ici, le nombre idéal de voisin est de 5 ou 6 (3+2 ou 4+2)\")"
   ]
  },
  {
   "cell_type": "markdown",
   "metadata": {},
   "source": [
    "- Still using K-fold, vary the type of distance used. What is the best distance in our case ?"
   ]
  },
  {
   "cell_type": "code",
   "execution_count": null,
   "metadata": {},
   "outputs": [],
   "source": [
    "from sklearn.model_selection import KFold\n",
    "\n",
    "scores_train=[]\n",
    "scores_test=[]\n",
    "\n",
    "kf = KFold(n_splits=10, shuffle=True, random_state=42)\n",
    "for i in range(2,6):\n",
    "    tmptest=0\n",
    "    tmptrain=0\n",
    "    for k in kf.split(X):\n",
    "        indicestrain = k[0]\n",
    "        indicestest = k[1]\n",
    "        xtrain=X[indicestrain]\n",
    "        xtest=X[indicestest]\n",
    "        ytrain=y[indicestrain]\n",
    "        ytest=y[indicestest]\n",
    "        clf = KNeighborsClassifier(p=i)\n",
    "        clf.fit(xtrain, ytrain)\n",
    "        tmptest+=clf.score(xtest, ytest)\n",
    "        tmptrain+=clf.score(xtrain, ytrain)\n",
    "    scores_train.append(tmptest/10)\n",
    "    scores_test.append(tmptrain/10)\n",
    "\n",
    "# Display scores\n",
    "plt.plot(scores_train)\n",
    "plt.plot(scores_test)\n",
    "plt.xlabel(\"k-2\")\n",
    "plt.ylabel(\"Score\")\n",
    "plt.title(\"Variation of distance\")\n",
    "plt.show()"
   ]
  },
  {
   "cell_type": "markdown",
   "metadata": {},
   "source": [
    "- Fixez n_job à 1 puis à -1 et calculez le temps de chacun."
   ]
  },
  {
   "cell_type": "code",
   "execution_count": null,
   "metadata": {},
   "outputs": [],
   "source": [
    "from sklearn.model_selection import KFold\n",
    "\n",
    "time=[]\n",
    "\n",
    "kf = KFold(n_splits=10, shuffle=True, random_state=42)\n",
    "for i in (1, -1):\n",
    "    tmptime=0\n",
    "    for k in kf.split(X):\n",
    "        indicestrain = k[0]\n",
    "        indicestest = k[1]\n",
    "        xtrain=X[indicestrain]\n",
    "        xtest=X[indicestest]\n",
    "        ytrain=y[indicestrain]\n",
    "        ytest=y[indicestest]\n",
    "        tps1 = time.time()\n",
    "        clf = KNeighborsClassifier(n_jobs=i)\n",
    "        clf.fit(xtrain, ytrain)\n",
    "        tps2 = time.time()\n",
    "        tmptest+=tps2-tps1\n",
    "    time.append(tmptime/10)\n",
    "    \n",
    "# Display times\n",
    "plt.plot(time)\n",
    "plt.xlabel(\"1 puis -1\")\n",
    "plt.ylabel(\"time\")\n",
    "plt.title(\"Variation of n_jobs\")\n",
    "plt.show()"
   ]
  },
  {
   "cell_type": "markdown",
   "metadata": {},
   "source": [
    "- In your opinion, what are the advantages and disadvantages of the k-NN method: optimality ? computation time ? scalability ?"
   ]
  },
  {
   "cell_type": "markdown",
   "metadata": {},
   "source": [
    "# 3. The Support Vector Machines (SVM) method\n",
    "\n",
    "The SVM is a method finding a linear separation between 2 classes of samples in an augmented space using kernel functions, while optimizing the margin between the 2 classes. This method can have a good performance on clasification problems.\n",
    "\n",
    "The SVM method requires:\n",
    "- a kernel (e.g. Gaussian)\n",
    "- a training dataset\n",
    "\n",
    "The SVM method is designed for binary classification and it is possible to perform multi-class classification by using several \"one-vs-rest\" binary classification. The Support Vector Classification method automatically perform this multi-class approach.\n",
    "\n",
    "In the following example, we have 3 classes (ω1, ω2, ω3) and the goal is to find the value of the class for an unknown example x. We consider several Kernels\n",
    "\n",
    "<img src=\"https://scikit-learn.org/stable/_images/sphx_glr_plot_iris_svc_001.png\" alt=\"SVM\" />\n",
    "\n",
    "The results are highly dependent on the choice of this kernel."
   ]
  },
  {
   "cell_type": "markdown",
   "metadata": {},
   "source": [
    "### Information:\n",
    "The algorithm SVC is implemented in a package called **sklearn.svm**: https://scikit-learn.org/stable/modules/generated/sklearn.svm.SVC.html#sklearn.svm.SVC.\n",
    "\n",
    "In order for the SVM method to perform well, the data needs to be centered. This can be performed using the **StandardScaler** function in the package sklearn.preprocessing. The main commands are then:\n",
    "- scaler = StandardScaler()\n",
    "- X_train = scaler.fit_transform(X_train)\n",
    "- X_test = scaler.transform(X_test)\n",
    "\n",
    "Then to get the SVC classifier, here are the main commands:\n",
    "- The line **clf = SVC(kernel='rbf', decision_function_shape='ovr')** creates an object of type classifier based on the Gaussian kernel,\n",
    "- The instruction clf.fit(X, y) uses the data to define the classifier (training),\n",
    "- The command **clf.predict()** is used to classify the new examples,\n",
    "- The command **clf.score(xtest, ytest)** computes the global score of the classifier for a given dataset."
   ]
  },
  {
   "cell_type": "markdown",
   "metadata": {},
   "source": [
    "## Exercice 3: The SVC method"
   ]
  },
  {
   "cell_type": "markdown",
   "metadata": {},
   "source": [
    "- Just like before: import the data and extract a data sample named X with a size of 5000 examples."
   ]
  },
  {
   "cell_type": "code",
   "execution_count": 2,
   "metadata": {},
   "outputs": [
    {
     "name": "stderr",
     "output_type": "stream",
     "text": [
      "/usr/local/insa/anaconda/lib/python3.11/site-packages/sklearn/datasets/_openml.py:968: FutureWarning: The default value of `parser` will change from `'liac-arff'` to `'auto'` in 1.4. You can set `parser='auto'` to silence this warning. Therefore, an `ImportError` will be raised from 1.4 if the dataset is dense and pandas is not installed. Note that the pandas parser may return different data types. See the Notes Section in fetch_openml's API doc for details.\n",
      "  warn(\n"
     ]
    }
   ],
   "source": [
    "import numpy as np\n",
    "from sklearn.datasets import fetch_openml\n",
    "\n",
    "mnist = fetch_openml('mnist_784')\n",
    "\n",
    "X_complete=np.asarray(mnist.data)\n",
    "y_complete=np.asarray(mnist.target)\n",
    "\n",
    "index=np.random.randint(70000, size=5000)\n",
    "X=X_complete[index]\n",
    "y=y_complete[index]"
   ]
  },
  {
   "cell_type": "markdown",
   "metadata": {},
   "source": [
    "- Inspired by the previous work on the k-NN: use K-fold validation in order to decide which kernel gives the best results for our classification problem using an SVC classifier. Do not forget to scale the data."
   ]
  },
  {
   "cell_type": "code",
   "execution_count": 8,
   "metadata": {},
   "outputs": [
    {
     "data": {
      "image/png": "[encoded data removed]",
      "text/plain": [
       "<Figure size 640x480 with 1 Axes>"
      ]
     },
     "metadata": {},
     "output_type": "display_data"
    }
   ],
   "source": [
    "from sklearn.model_selection import train_test_split\n",
    "from sklearn.preprocessing import StandardScaler\n",
    "from sklearn import datasets\n",
    "from sklearn.svm import SVC\n",
    "from sklearn.model_selection import KFold\n",
    "import matplotlib.pyplot as plt\n",
    "\n",
    "scores_train=[]\n",
    "scores_test=[]\n",
    "\n",
    "xtrain, xtest, ytrain, ytest = train_test_split(X, y, train_size=0.8)\n",
    "\n",
    "kf = KFold(n_splits=10, shuffle=True, random_state=42)\n",
    "for i in ('linear', 'poly', 'rbf', 'sigmoid'):\n",
    "    tmptest=0\n",
    "    tmptrain=0\n",
    "    for k in kf.split(X):\n",
    "        indicestrain = k[0]\n",
    "        indicestest = k[1]\n",
    "        xtrain=X[indicestrain]\n",
    "        xtest=X[indicestest]\n",
    "        ytrain=y[indicestrain]\n",
    "        ytest=y[indicestest]\n",
    "        scaler = StandardScaler()\n",
    "        X_train = scaler.fit_transform(xtrain)\n",
    "        X_test = scaler.transform(xtest)\n",
    "        clf = SVC(kernel=i, decision_function_shape='ovr')\n",
    "        clf.fit(X_train, ytrain)\n",
    "        tmptest+=clf.score(X_test, ytest)\n",
    "        tmptrain+=clf.score(X_train, ytrain)\n",
    "    scores_train.append(tmptest/10)\n",
    "    scores_test.append(tmptrain/10)\n",
    "\n",
    "# Display scores\n",
    "plt.plot(scores_train)\n",
    "plt.plot(scores_test)\n",
    "plt.xlabel(\"methode used\")\n",
    "plt.ylabel(\"Score\")\n",
    "plt.show()\n"
   ]
  },
  {
   "cell_type": "markdown",
   "metadata": {},
   "source": [
    "La méthode 0 correspond à linear, 1 à poly, 2 à rbf et 3 à sigmoid.\n",
    "Afin d'éviter l'overfitting, la méthode sigmoid semble être la plus adéquate, le train score et test score sont très proches et assez élevés."
   ]
  },
  {
   "cell_type": "markdown",
   "metadata": {},
   "source": [
    "- In your opinion, what are the advantages and disadvantages of the SVM method: optimality ? computation time ? scalability ?"
   ]
  },
  {
   "cell_type": "markdown",
   "metadata": {},
   "source": [
    "### Complementary definitions from the medical domain:\n",
    "We define:\n",
    "- TP (true positives) represents the number of ill individuals with a positive test,\n",
    "- FP (faux positives) represents the number of healthy individuals with a positive test,\n",
    "- TP (true negatives) represents the number of ill individuals with a negative test,\n",
    "- FP (faux negatives) represents the number of healthy individuals with a negative test.\n",
    "\n",
    "Two measures allow to judge the quality of a classifier:\n",
    "1. **Sensitivity** (or *true positive rate, recall, probability of detection*): probability that the test is positive when the illness is present = proportion of positives correctly identified = TP/(TP+FN).\n",
    "2. **Specificity** (or *true negative rate*): probability that the test is negative when the patient is healthy = proportion of negatives correctly identified = TN/(VP+FN)."
   ]
  }
 ],
 "metadata": {
  "kernelspec": {
   "display_name": "Python 3 (ipykernel)",
   "language": "python",
   "name": "python3"
  },
  "language_info": {
   "codemirror_mode": {
    "name": "ipython",
    "version": 3
   },
   "file_extension": ".py",
   "mimetype": "text/x-python",
   "name": "python",
   "nbconvert_exporter": "python",
   "pygments_lexer": "ipython3",
   "version": "3.11.3"
  }
 },
 "nbformat": 4,
 "nbformat_minor": 4
}
